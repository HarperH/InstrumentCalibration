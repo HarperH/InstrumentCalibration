{
 "cells": [
  {
   "cell_type": "code",
   "execution_count": 1,
   "metadata": {},
   "outputs": [],
   "source": [
    "##Import useful modules\n",
    "\n",
    "import numpy as np\n",
    "import pandas as pd\n",
    "import statsmodels.formula.api as smf\n",
    "from matplotlib import pyplot as plt"
   ]
  },
  {
   "cell_type": "code",
   "execution_count": 11,
   "metadata": {},
   "outputs": [
    {
     "data": {
      "text/html": [
       "<div>\n",
       "<style scoped>\n",
       "    .dataframe tbody tr th:only-of-type {\n",
       "        vertical-align: middle;\n",
       "    }\n",
       "\n",
       "    .dataframe tbody tr th {\n",
       "        vertical-align: top;\n",
       "    }\n",
       "\n",
       "    .dataframe thead th {\n",
       "        text-align: right;\n",
       "    }\n",
       "</style>\n",
       "<table border=\"1\" class=\"dataframe\">\n",
       "  <thead>\n",
       "    <tr style=\"text-align: right;\">\n",
       "      <th></th>\n",
       "      <th>test_id</th>\n",
       "      <th>pt_psia</th>\n",
       "      <th>pa_psia</th>\n",
       "      <th>pd_volts</th>\n",
       "    </tr>\n",
       "  </thead>\n",
       "  <tbody>\n",
       "    <tr>\n",
       "      <th>0</th>\n",
       "      <td>1.0</td>\n",
       "      <td>5</td>\n",
       "      <td>4</td>\n",
       "      <td>0.2834</td>\n",
       "    </tr>\n",
       "    <tr>\n",
       "      <th>1</th>\n",
       "      <td>1.0</td>\n",
       "      <td>10</td>\n",
       "      <td>10</td>\n",
       "      <td>0.3655</td>\n",
       "    </tr>\n",
       "    <tr>\n",
       "      <th>2</th>\n",
       "      <td>1.0</td>\n",
       "      <td>15</td>\n",
       "      <td>14</td>\n",
       "      <td>0.4469</td>\n",
       "    </tr>\n",
       "    <tr>\n",
       "      <th>3</th>\n",
       "      <td>1.0</td>\n",
       "      <td>35</td>\n",
       "      <td>34</td>\n",
       "      <td>0.7752</td>\n",
       "    </tr>\n",
       "    <tr>\n",
       "      <th>4</th>\n",
       "      <td>1.0</td>\n",
       "      <td>55</td>\n",
       "      <td>56</td>\n",
       "      <td>1.1028</td>\n",
       "    </tr>\n",
       "  </tbody>\n",
       "</table>\n",
       "</div>"
      ],
      "text/plain": [
       "   test_id  pt_psia  pa_psia  pd_volts\n",
       "0      1.0        5        4    0.2834\n",
       "1      1.0       10       10    0.3655\n",
       "2      1.0       15       14    0.4469\n",
       "3      1.0       35       34    0.7752\n",
       "4      1.0       55       56    1.1028"
      ]
     },
     "execution_count": 11,
     "metadata": {},
     "output_type": "execute_result"
    }
   ],
   "source": [
    "#Import dataset and look at first few entries\n",
    "\n",
    "dataset = pd.read_csv('PressureSensorData.csv')\n",
    "dataset.head()"
   ]
  },
  {
   "cell_type": "code",
   "execution_count": 3,
   "metadata": {},
   "outputs": [],
   "source": [
    "##Create numpy arrays from the columns of our dataset\n",
    "\n",
    "transPressure = np.array(dataset['pt_psia'])\n",
    "anaPressure = np.array(dataset['pa_psia'])\n",
    "voltage = np.array(dataset['pd_volts'])"
   ]
  },
  {
   "cell_type": "code",
   "execution_count": 4,
   "metadata": {},
   "outputs": [
    {
     "data": {
      "text/html": [
       "<div>\n",
       "<style scoped>\n",
       "    .dataframe tbody tr th:only-of-type {\n",
       "        vertical-align: middle;\n",
       "    }\n",
       "\n",
       "    .dataframe tbody tr th {\n",
       "        vertical-align: top;\n",
       "    }\n",
       "\n",
       "    .dataframe thead th {\n",
       "        text-align: right;\n",
       "    }\n",
       "</style>\n",
       "<table border=\"1\" class=\"dataframe\">\n",
       "  <thead>\n",
       "    <tr style=\"text-align: right;\">\n",
       "      <th></th>\n",
       "      <th>test_id</th>\n",
       "      <th>pt_psia</th>\n",
       "      <th>pa_psia</th>\n",
       "      <th>pd_volts</th>\n",
       "    </tr>\n",
       "  </thead>\n",
       "  <tbody>\n",
       "    <tr>\n",
       "      <th>test_id</th>\n",
       "      <td>6.782931</td>\n",
       "      <td>0.797038</td>\n",
       "      <td>0.128020</td>\n",
       "      <td>0.014653</td>\n",
       "    </tr>\n",
       "    <tr>\n",
       "      <th>pt_psia</th>\n",
       "      <td>0.797038</td>\n",
       "      <td>3415.478972</td>\n",
       "      <td>3402.745327</td>\n",
       "      <td>55.991599</td>\n",
       "    </tr>\n",
       "    <tr>\n",
       "      <th>pa_psia</th>\n",
       "      <td>0.128020</td>\n",
       "      <td>3402.745327</td>\n",
       "      <td>3391.423589</td>\n",
       "      <td>55.783689</td>\n",
       "    </tr>\n",
       "    <tr>\n",
       "      <th>pd_volts</th>\n",
       "      <td>0.014653</td>\n",
       "      <td>55.991599</td>\n",
       "      <td>55.783689</td>\n",
       "      <td>0.917949</td>\n",
       "    </tr>\n",
       "  </tbody>\n",
       "</table>\n",
       "</div>"
      ],
      "text/plain": [
       "           test_id      pt_psia      pa_psia   pd_volts\n",
       "test_id   6.782931     0.797038     0.128020   0.014653\n",
       "pt_psia   0.797038  3415.478972  3402.745327  55.991599\n",
       "pa_psia   0.128020  3402.745327  3391.423589  55.783689\n",
       "pd_volts  0.014653    55.991599    55.783689   0.917949"
      ]
     },
     "execution_count": 4,
     "metadata": {},
     "output_type": "execute_result"
    }
   ],
   "source": [
    "dataset.cov()"
   ]
  },
  {
   "cell_type": "code",
   "execution_count": 5,
   "metadata": {},
   "outputs": [
    {
     "data": {
      "text/html": [
       "<div>\n",
       "<style scoped>\n",
       "    .dataframe tbody tr th:only-of-type {\n",
       "        vertical-align: middle;\n",
       "    }\n",
       "\n",
       "    .dataframe tbody tr th {\n",
       "        vertical-align: top;\n",
       "    }\n",
       "\n",
       "    .dataframe thead th {\n",
       "        text-align: right;\n",
       "    }\n",
       "</style>\n",
       "<table border=\"1\" class=\"dataframe\">\n",
       "  <thead>\n",
       "    <tr style=\"text-align: right;\">\n",
       "      <th></th>\n",
       "      <th>test_id</th>\n",
       "      <th>pt_psia</th>\n",
       "      <th>pa_psia</th>\n",
       "      <th>pd_volts</th>\n",
       "    </tr>\n",
       "  </thead>\n",
       "  <tbody>\n",
       "    <tr>\n",
       "      <th>test_id</th>\n",
       "      <td>1.000000</td>\n",
       "      <td>0.005257</td>\n",
       "      <td>0.000847</td>\n",
       "      <td>0.005896</td>\n",
       "    </tr>\n",
       "    <tr>\n",
       "      <th>pt_psia</th>\n",
       "      <td>0.005257</td>\n",
       "      <td>1.000000</td>\n",
       "      <td>0.999799</td>\n",
       "      <td>0.999972</td>\n",
       "    </tr>\n",
       "    <tr>\n",
       "      <th>pa_psia</th>\n",
       "      <td>0.000847</td>\n",
       "      <td>0.999799</td>\n",
       "      <td>1.000000</td>\n",
       "      <td>0.999786</td>\n",
       "    </tr>\n",
       "    <tr>\n",
       "      <th>pd_volts</th>\n",
       "      <td>0.005896</td>\n",
       "      <td>0.999972</td>\n",
       "      <td>0.999786</td>\n",
       "      <td>1.000000</td>\n",
       "    </tr>\n",
       "  </tbody>\n",
       "</table>\n",
       "</div>"
      ],
      "text/plain": [
       "           test_id   pt_psia   pa_psia  pd_volts\n",
       "test_id   1.000000  0.005257  0.000847  0.005896\n",
       "pt_psia   0.005257  1.000000  0.999799  0.999972\n",
       "pa_psia   0.000847  0.999799  1.000000  0.999786\n",
       "pd_volts  0.005896  0.999972  0.999786  1.000000"
      ]
     },
     "execution_count": 5,
     "metadata": {},
     "output_type": "execute_result"
    }
   ],
   "source": [
    "##Look at the correlation of our different columns\n",
    "\n",
    "dataset.corr(method ='pearson') "
   ]
  },
  {
   "cell_type": "code",
   "execution_count": 7,
   "metadata": {},
   "outputs": [
    {
     "name": "stdout",
     "output_type": "stream",
     "text": [
      "Intercept   -12.354751\n",
      "pd_volts     60.996438\n",
      "dtype: float64\n"
     ]
    },
    {
     "data": {
      "image/png": "[encoded data removed]",
      "text/plain": [
       "<Figure size 864x432 with 1 Axes>"
      ]
     },
     "metadata": {
      "needs_background": "light"
     },
     "output_type": "display_data"
    }
   ],
   "source": [
    "##Create and print model of true pressure as a function of voltage\n",
    "\n",
    "model = smf.ols('pt_psia ~ pd_volts', data=dataset)\n",
    "model = model.fit()\n",
    "print(model.params)\n",
    "\n",
    "transPressure_pred = model.predict()\n",
    "\n",
    "\n",
    "plt.figure(figsize=(12, 6))\n",
    "plt.plot(dataset['pd_volts'], dataset['pt_psia'], 'o')\n",
    "plt.plot(dataset['pd_volts'], transPressure_pred, 'r', linewidth=2)\n",
    "plt.xlabel('Voltage')\n",
    "plt.ylabel('Pressure')\n",
    "plt.title('Predicting True Pressure using Voltage')\n",
    "\n",
    "plt.show()"
   ]
  },
  {
   "cell_type": "code",
   "execution_count": 8,
   "metadata": {},
   "outputs": [
    {
     "name": "stdout",
     "output_type": "stream",
     "text": [
      "Intercept   -12.905299\n",
      "pd_volts     60.769944\n",
      "dtype: float64\n"
     ]
    },
    {
     "data": {
      "image/png": "[encoded data removed]",
      "text/plain": [
       "<Figure size 864x432 with 1 Axes>"
      ]
     },
     "metadata": {
      "needs_background": "light"
     },
     "output_type": "display_data"
    }
   ],
   "source": [
    "##Create and print model of analogue pressure as a function of voltage\n",
    "\n",
    "model1 = smf.ols('pa_psia ~ pd_volts', data=dataset)\n",
    "model1 = model1.fit()\n",
    "print(model1.params)\n",
    "\n",
    "anaPressure_pred = model1.predict()\n",
    "\n",
    "plt.figure(figsize=(12, 6))\n",
    "plt.plot(dataset['pd_volts'], dataset['pa_psia'], 'o')\n",
    "plt.plot(dataset['pd_volts'], transPressure_pred, 'r', linewidth=2)\n",
    "plt.xlabel('Voltage')\n",
    "plt.ylabel('Analog Pressure Reading')\n",
    "plt.title('Predicting Analog Pressure Reading using Voltage')\n",
    "\n",
    "plt.show()"
   ]
  },
  {
   "cell_type": "code",
   "execution_count": 9,
   "metadata": {},
   "outputs": [],
   "source": [
    "#using lab 18, speed time example, form a line fomrmula and ask user for input voltage to predict pressure\n"
   ]
  },
  {
   "cell_type": "code",
   "execution_count": 10,
   "metadata": {},
   "outputs": [
    {
     "name": "stdout",
     "output_type": "stream",
     "text": [
      "RMSE for voltage as predictor for True Pressure is  0.4348920898366701\n",
      "R2 for voltage as predictor for True Pressure is  0.9999441077775557\n",
      "Pearson's r for voltage as predictor for True Pressure is  0.9999720534982746\n",
      "NSE for voltage as predictor for True Pressure  [0.99994411]\n",
      "KGE for voltage as predictor for True Pressure is  [[0.99996048]\n",
      " [0.99997205]\n",
      " [0.99997205]\n",
      " [1.        ]]\n"
     ]
    }
   ],
   "source": [
    "import sklearn.metrics as metrics\n",
    "from scipy.stats import pearsonr\n",
    "from hydroeval import *\n",
    "\n",
    "testId = np.array(dataset[\"test_id\"])\n",
    "trueP = np.array(dataset[\"pt_psia\"])\n",
    "anaP = np.array(dataset[\"pa_psia\"])\n",
    "volts = np.array(dataset[\"pd_volts\"])\n",
    "\n",
    "model_trueP = smf.ols('pt_psia ~ pd_volts', data=dataset)\n",
    "model_trueP = model_trueP.fit()\n",
    "trueP_pred = model_trueP.predict()\n",
    "\n",
    "\n",
    "#Error testing for a linear regression model\n",
    "\n",
    "print(\"RMSE for voltage as predictor for True Pressure is \",np.sqrt(metrics.mean_squared_error(trueP, trueP_pred)))\n",
    "print(\"R2 for voltage as predictor for True Pressure is \",metrics.r2_score(trueP, trueP_pred))\n",
    "trueP_r = pearsonr(trueP_pred, trueP)\n",
    "print(\"Pearson's r for voltage as predictor for True Pressure is \",trueP_r[0])\n",
    "trueP_nse = evaluator(nse, trueP_pred, trueP)\n",
    "print(\"NSE for voltage as predictor for True Pressure \",trueP_nse)\n",
    "trueP_kge = evaluator(kgeprime, trueP_pred, trueP)\n",
    "print(\"KGE for voltage as predictor for True Pressure is \",trueP_kge)"
   ]
  }
 ],
 "metadata": {
  "kernelspec": {
   "display_name": "Python 3",
   "language": "python",
   "name": "python3"
  },
  "language_info": {
   "codemirror_mode": {
    "name": "ipython",
    "version": 3
   },
   "file_extension": ".py",
   "mimetype": "text/x-python",
   "name": "python",
   "nbconvert_exporter": "python",
   "pygments_lexer": "ipython3",
   "version": "3.8.5"
  }
 },
 "nbformat": 4,
 "nbformat_minor": 4
}
