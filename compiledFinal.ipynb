{
 "cells": [
  {
   "cell_type": "code",
   "execution_count": 1,
   "id": "7c655d88",
   "metadata": {},
   "outputs": [],
   "source": [
    "##Import necessary modules\n",
    "\n",
    "import numpy as np\n",
    "import pandas as pd\n",
    "import statsmodels.formula.api as smf\n",
    "import tkinter as tk\n",
    "import math\n",
    "from matplotlib import pyplot as plt"
   ]
  },
  {
   "cell_type": "code",
   "execution_count": 3,
   "id": "cf4c41ca",
   "metadata": {},
   "outputs": [],
   "source": [
    "##Import Data and build numpy arrays to manipulate\n",
    "\n",
    "dataset = pd.read_csv('PressureSensorData.csv')\n",
    "currentData = dataset\n",
    "transPressure = np.array(currentData['pt_psia'])#.reshape(-1,1)\n",
    "anaPressure = np.array(currentData['pa_psia'])\n",
    "voltage = np.array(currentData['pd_volts'])"
   ]
  },
  {
   "cell_type": "code",
   "execution_count": 4,
   "id": "6e520e7d",
   "metadata": {},
   "outputs": [],
   "source": [
    "##Create function to get estimated Analogue Pressure for input voltage\n",
    "\n",
    "def getAnaP(event):\n",
    "    volts = float(userVoltIn.get())\n",
    "    model = smf.ols('pa_psia ~ pd_volts', data=currentData)\n",
    "    model = model.fit()\n",
    "    result = model.params[0] + volts * model.params[1]\n",
    "    anaRes.configure(text = \"Your Estimated Analogue Readout is: \" + str(result))"
   ]
  },
  {
   "cell_type": "code",
   "execution_count": 5,
   "id": "c5580158",
   "metadata": {},
   "outputs": [],
   "source": [
    "##Create function to get estimated True Pressure for input voltage\n",
    "\n",
    "def getTrueP(event):\n",
    "    volts = float(userVoltIn.get())\n",
    "    model = smf.ols('pt_psia ~ pd_volts', data=currentData)\n",
    "    model = model.fit()\n",
    "    result = model.params[0] + volts * model.params[1]\n",
    "    trueRes.configure(text = \"Your Estimated True Pressure is: \" + str(result))\n",
    "    \n",
    "    #Establish variables for calculating confidence interval\n",
    "    sampSize = len(transPressure)                        #Sample size\n",
    "    sampStd = np.std(transPressure)                      #Standard deviation (σ)\n",
    "    \n",
    "    #Find Margin of error\n",
    "    margin = zValue*(sampStd/math.sqrt(sampSize))\n",
    "    \n",
    "    #Calculate our interval\n",
    "    lowEnd = result-margin\n",
    "    highEnd = result+margin\n",
    "    \n",
    "    confRes.configure(text = \"With a Confidence Interval of (\" + str(lowEnd) + \",\" + str(highEnd) + \")\")"
   ]
  },
  {
   "cell_type": "code",
   "execution_count": 6,
   "id": "0a8031e8",
   "metadata": {},
   "outputs": [],
   "source": [
    "##Create function to find confidence interval\n",
    "\n",
    "def findConf():\n",
    "    \n",
    "    #Select a z-value based on the selected radio-button\n",
    "    confChoice = int(var.get())\n",
    "    if(confChoice == 1):\n",
    "        z = 1.645                      #The z value associated with 90% Confidence Interval\n",
    "    elif(confChoice == 2):\n",
    "        z = 1.960                      #The z value associated with 95% Confidence Interval\n",
    "    elif(confChoice == 3):\n",
    "        z = 2.576                      #The z value associated with 90% Confidence Interval\n",
    "    global zValue\n",
    "    zValue = z\n",
    "    result = z"
   ]
  },
  {
   "cell_type": "code",
   "execution_count": 7,
   "id": "2217359f",
   "metadata": {},
   "outputs": [],
   "source": [
    "#### User Interface\n",
    "\n",
    "\n",
    "#Initialize GUI\n",
    "gui = tk.Tk()\n",
    "gui.geometry(\"1000x500\")\n",
    "\n",
    "#Ask for user input\n",
    "inputLabel = tk.Label(gui, text=\"Input Voltage:\").pack()\n",
    "userVoltIn = tk.Entry(gui)\n",
    "userVoltIn.pack()\n",
    "\n",
    "#Create radio buttons to select confidence interval\n",
    "confidenceInput = tk.Label(gui,text=\"Select your desired Confidence Level\")\n",
    "confidenceInput.pack()\n",
    "var = tk.StringVar(gui, \"1\")\n",
    "values = {\"90%\" : \"1\",\"95%\" : \"2\",\"99%\" : \"3\"}\n",
    "for (text, value) in values.items():\n",
    "    tk.Radiobutton(gui, text = text, variable = var, value = value,command=findConf).pack()\n",
    "\n",
    "#Bind return key to our functions\n",
    "userVoltIn.bind(\"<Return>\", getAnaP)\n",
    "userVoltIn.bind(\"<Return>\", getTrueP, add=\"+\")\n",
    "\n",
    "#Create a button to run our functions\n",
    "bigOlButton = tk.Button(gui, text=\"Calculate\",command=(lambda e=userVoltIn:[getAnaP(e),getTrueP(e)])).pack()\n",
    "\n",
    "#Display our results\n",
    "anaRes = tk.Label(gui)\n",
    "trueRes = tk.Label(gui)\n",
    "confRes = tk.Label(gui)\n",
    "anaRes.pack()\n",
    "trueRes.pack()\n",
    "confRes.pack()\n",
    "\n",
    "\n",
    "\n",
    "gui.mainloop()"
   ]
  },
  {
   "cell_type": "markdown",
   "id": "6efb7924",
   "metadata": {},
   "source": []
  },
  {
   "cell_type": "code",
   "execution_count": null,
   "id": "3d95776c",
   "metadata": {},
   "outputs": [],
   "source": []
  }
 ],
 "metadata": {
  "kernelspec": {
   "display_name": "Python 3",
   "language": "python",
   "name": "python3"
  },
  "language_info": {
   "codemirror_mode": {
    "name": "ipython",
    "version": 3
   },
   "file_extension": ".py",
   "mimetype": "text/x-python",
   "name": "python",
   "nbconvert_exporter": "python",
   "pygments_lexer": "ipython3",
   "version": "3.8.5"
  }
 },
 "nbformat": 4,
 "nbformat_minor": 5
}
